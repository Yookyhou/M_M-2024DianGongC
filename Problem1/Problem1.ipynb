{
 "cells": [
  {
   "cell_type": "markdown",
   "source": [
    "# 问题1.1\n",
    "# 步骤 1：读取数据\n",
    "\n",
    "从Excel和CSV文件中加载数据：\n",
    "1. 男大学生的一日食谱 (`附件1：1名男大学生的一日食谱.xlsx`)\n",
    "2. 女大学生的一日食谱 (`附件2：1名女大学生的一日食谱.xlsx`)\n",
    "3. 高校学生食堂一日三餐主要食物信息统计表 (`附件3：某高校学生食堂一日三餐主要食物信息统计表.xlsx`)\n",
    "4. 男大学生食谱 (`食谱.xlsx`，工作表 `男大`)\n",
    "5. 女大学生食谱 (`食谱.xlsx`，工作表 `女大`)\n",
    "6. 食物营养数据 (`foods_nutrients.csv`)\n",
    "\n",
    "\n"
   ],
   "metadata": {
    "collapsed": false
   },
   "id": "c4fe8b606d904eb8"
  },
  {
   "cell_type": "code",
   "outputs": [],
   "source": [
    "import pandas as pd\n",
    "import numpy as np\n",
    "\n",
    "df1 = pd.read_excel('附件1：1名男大学生的一日食谱.xlsx')\n",
    "df2 = pd.read_excel('附件2：1名女大学生的一日食谱.xlsx')\n",
    "df3 = pd.read_excel('附件3：某高校学生食堂一日三餐主要食物信息统计表.xlsx')\n",
    "food_male = pd.read_excel('食谱.xlsx', sheet_name='男大')\n",
    "food_female = pd.read_excel('食谱.xlsx', sheet_name='女大')\n"
   ],
   "metadata": {
    "collapsed": false,
    "ExecuteTime": {
     "end_time": "2024-05-24T13:21:11.565244Z",
     "start_time": "2024-05-24T13:21:11.187004Z"
    }
   },
   "id": "795e1f39f7017876",
   "execution_count": 1
  },
  {
   "cell_type": "code",
   "outputs": [],
   "source": [
    "foods_nutrients = pd.read_csv('foods_nutrients.csv')\n"
   ],
   "metadata": {
    "collapsed": false,
    "ExecuteTime": {
     "end_time": "2024-05-24T13:21:11.569720Z",
     "start_time": "2024-05-24T13:21:11.566059Z"
    }
   },
   "id": "694eb23445ae91",
   "execution_count": 2
  },
  {
   "cell_type": "markdown",
   "source": [
    "# 步骤 2：提取餐食信息"
   ],
   "metadata": {
    "collapsed": false
   },
   "id": "ab51a21c19b868a2"
  },
  {
   "cell_type": "code",
   "outputs": [],
   "source": [
    "\n",
    "def extract_meals(df, sheet_name):\n",
    "    foods = df[sheet_name].dropna().values\n",
    "    meals = {}\n",
    "    meal = []\n",
    "    for item in foods:\n",
    "        if item in ['早餐', '午餐', '晚餐']:\n",
    "            key = item\n",
    "            meal = []\n",
    "        elif item != '食物名称':\n",
    "            meal.append(item)\n",
    "        else:\n",
    "            meals[key] = meal\n",
    "    return meals\n",
    "\n",
    "meals_male = extract_meals(df1, '1名男大学生的一日食谱')\n",
    "meals_female = extract_meals(df2, '1名女大学生的1日食谱')"
   ],
   "metadata": {
    "collapsed": false,
    "ExecuteTime": {
     "end_time": "2024-05-24T13:21:11.572529Z",
     "start_time": "2024-05-24T13:21:11.570217Z"
    }
   },
   "id": "55f465ce76209bfc",
   "execution_count": 3
  },
  {
   "cell_type": "markdown",
   "source": [
    "# 步骤 3：前向填充缺失值\n",
    "\n",
    "**计算公式**：\n",
    "对于每个缺失值，用前一个非缺失值进行填充：\n",
    "$$\n",
    "\\text{value}_{\\text{current}} = \\text{value}_{\\text{previous}} \\quad \\text{if value}_{\\text{current}} \\text{ is null}\n",
    "$$\n"
   ],
   "metadata": {
    "collapsed": false
   },
   "id": "c9b999198f395f1b"
  },
  {
   "cell_type": "code",
   "outputs": [],
   "source": [
    "food_male = pd.read_excel('食谱.xlsx', sheet_name='男大').fillna(0)\n",
    "food_female = pd.read_excel('食谱.xlsx', sheet_name='女大').fillna(method='ffill')"
   ],
   "metadata": {
    "collapsed": false,
    "ExecuteTime": {
     "end_time": "2024-05-24T13:21:11.584619Z",
     "start_time": "2024-05-24T13:21:11.573584Z"
    }
   },
   "id": "c25764e02007b460",
   "execution_count": 4
  },
  {
   "cell_type": "markdown",
   "source": [
    "# 步骤 4：计算营养素总和\n",
    "\n",
    "**计算公式**：\n",
    "定义总营养素初始值为0：\n",
    "$$\n",
    "\\text{total\\_nutrients} = \\{ \\text{热量 (kcal)}: 0, \\text{蛋白质 (g)}: 0, \\text{脂肪 (g)}: 0, \\text{碳水化合物 (g)}: 0 \\}\n",
    "$$\n",
    "\n",
    "对于每种食物，计算可食部克数乘以每份数并除以100：\n",
    "$$\n",
    "\\text{portion\\_size} = \\frac{\\text{可食部（克/份）} \\times \\text{食用份数}}{100}\n",
    "$$\n",
    "\n",
    "然后计算每种营养素的总摄入量：\n",
    "$$\n",
    "\\text{total\\_nutrients}[\\text{热量 (kcal)}] += \\text{nutrient}[\\text{热量 (kcal)}] \\times \\text{portion\\_size}\n",
    "$$\n",
    "$$\n",
    "\\text{total\\_nutrients}[\\text{蛋白质 (g)}] += \\text{nutrient}[\\text{蛋白质 (g)}] \\times \\text{portion\\_size}\n",
    "$$\n",
    "$$\n",
    "\\text{total\\_nutrients}[\\text{脂肪 (g)}] += \\text{nutrient}[\\text{脂肪 (g)}] \\times \\text{portion\\_size}\n",
    "$$\n",
    "$$\n",
    "\\text{total\\_nutrients}[\\text{碳水化合物 (g)}] += \\text{nutrient}[\\text{碳水化合物 (g)}] \\times \\text{portion\\_size}\n",
    "$$\n",
    "\n",
    "对于一天中的所有餐，累计每餐的总营养素：\n",
    "$$\n",
    "\\text{whole\\_day\\_nutrients}[\\text{热量 (kcal)}] += \\text{total\\_nutrients}[\\text{热量 (kcal)}]\n",
    "$$\n",
    "$$\n",
    "\\text{whole\\_day\\_nutrients}[\\text{蛋白质 (g)}] += \\text{total\\_nutrients}[\\text{蛋白质 (g)}]\n",
    "$$\n",
    "$$\n",
    "\\text{whole\\_day\\_nutrients}[\\text{脂肪 (g)}] += \\text{total\\_nutrients}[\\text{脂肪 (g)}]\n",
    "$$\n",
    "$$\n",
    "\\text{whole\\_day\\_nutrients}[\\text{碳水化合物 (g)}] += \\text{total\\_nutrients}[\\text{碳水化合物 (g)}]\n",
    "$$\n"
   ],
   "metadata": {
    "collapsed": false
   },
   "id": "a28f20bb0bad7a4b"
  },
  {
   "cell_type": "code",
   "outputs": [
    {
     "name": "stdout",
     "output_type": "stream",
     "text": [
      "男大学生每餐的营养素：\n",
      "早餐：{'热量 (kcal)': 686.5, '蛋白质 (g)': 27.9, '脂肪 (g)': 6.875, '碳水化合物 (g)': 129.85}\n",
      "午餐：{'热量 (kcal)': 971.6, '蛋白质 (g)': 24.48, '脂肪 (g)': 30.78, '碳水化合物 (g)': 144.2}\n",
      "晚餐：{'热量 (kcal)': 1031.0, '蛋白质 (g)': 34.08, '脂肪 (g)': 53.15, '碳水化合物 (g)': 112.975}\n",
      "\n",
      "男大学生一天的总营养素： {'热量 (kcal)': 2689.1, '蛋白质 (g)': 86.46, '脂肪 (g)': 90.805, '碳水化合物 (g)': 387.025}\n",
      "\n",
      "女大学生每餐的营养素：\n",
      "早餐：{'热量 (kcal)': 246.6, '蛋白质 (g)': 18.92, '脂肪 (g)': 6.24, '碳水化合物 (g)': 33.76}\n",
      "午餐：{'热量 (kcal)': 585.6, '蛋白质 (g)': 18.139999999999997, '脂肪 (g)': 30.470000000000002, '碳水化合物 (g)': 58.065000000000005}\n",
      "晚餐：{'热量 (kcal)': 461.15, '蛋白质 (g)': 17.235, '脂肪 (g)': 13.51, '碳水化合物 (g)': 66.815}\n",
      "\n",
      "女大学生一天的总营养素： {'热量 (kcal)': 1293.35, '蛋白质 (g)': 54.295, '脂肪 (g)': 50.22, '碳水化合物 (g)': 158.64}\n"
     ]
    }
   ],
   "source": [
    "food_female_unique = food_female.drop_duplicates(subset=['主要成分'])['主要成分'].values\n",
    "food_male_unique = food_male.drop_duplicates(subset=['主要成分'])['主要成分'].values\n",
    "\n",
    "# 读取食物营养素数据\n",
    "foods_nutrients = pd.read_csv('foods_nutrients.csv')\n",
    "\n",
    "# 计算每餐和一整天的总营养素\n",
    "def calculate_nutrients(meals, food_data):\n",
    "    total_day_nutrients = {'热量 (kcal)': 0, '蛋白质 (g)': 0, '脂肪 (g)': 0, '碳水化合物 (g)': 0}\n",
    "    daily_nutrients_list = []\n",
    "\n",
    "    for meal, items in meals.items():\n",
    "        meal_nutrients = {'热量 (kcal)': 0, '蛋白质 (g)': 0, '脂肪 (g)': 0, '碳水化合物 (g)': 0}\n",
    "        for item in items:\n",
    "            for _, food in food_data.iterrows():\n",
    "                if food['食物名称'] == item:\n",
    "                    nutrient = foods_nutrients[foods_nutrients['食物'] == food['主要成分']].iloc[0]\n",
    "                    portion_size = food['可食部（克/份）'] * food['食用份数'] / 100\n",
    "                    meal_nutrients['热量 (kcal)'] += nutrient['热量 (kcal)'] * portion_size\n",
    "                    meal_nutrients['蛋白质 (g)'] += nutrient['蛋白质 (g)'] * portion_size\n",
    "                    meal_nutrients['脂肪 (g)'] += nutrient['脂肪 (g)'] * portion_size\n",
    "                    meal_nutrients['碳水化合物 (g)'] += nutrient['碳水化合物 (g)'] * portion_size\n",
    "        daily_nutrients_list.append((meal, meal_nutrients))\n",
    "        total_day_nutrients['热量 (kcal)'] += meal_nutrients['热量 (kcal)']\n",
    "        total_day_nutrients['蛋白质 (g)'] += meal_nutrients['蛋白质 (g)']\n",
    "        total_day_nutrients['脂肪 (g)'] += meal_nutrients['脂肪 (g)']\n",
    "        total_day_nutrients['碳水化合物 (g)'] += meal_nutrients['碳水化合物 (g)']\n",
    "\n",
    "    return total_day_nutrients, daily_nutrients_list\n",
    "\n",
    "# 计算男大学生和女大学生的一天总营养素\n",
    "whole_day_nutrients_male, male_ls = calculate_nutrients(meals_male, food_male)\n",
    "whole_day_nutrients_female, female_ls = calculate_nutrients(meals_female, food_female)\n",
    "\n",
    "print(\"男大学生每餐的营养素：\")\n",
    "for meal, nutrients in male_ls:\n",
    "    print(f\"{meal}：{nutrients}\")\n",
    "\n",
    "print(\"\\n男大学生一天的总营养素：\", whole_day_nutrients_male)\n",
    "\n",
    "print(\"\\n女大学生每餐的营养素：\")\n",
    "for meal, nutrients in female_ls:\n",
    "    print(f\"{meal}：{nutrients}\")\n",
    "\n",
    "print(\"\\n女大学生一天的总营养素：\", whole_day_nutrients_female)"
   ],
   "metadata": {
    "collapsed": false,
    "ExecuteTime": {
     "end_time": "2024-05-24T13:21:11.602330Z",
     "start_time": "2024-05-24T13:21:11.585127Z"
    }
   },
   "id": "276b8b1fce96943e",
   "execution_count": 5
  },
  {
   "cell_type": "markdown",
   "source": [
    "# 步骤 5：计算膳食的标准参考值\n",
    "\n",
    "**计算公式**：\n",
    "设定男生每日营养素推荐摄入量，定义为：\n",
    "$$\n",
    "\\text{reference\\_intake\\_male} = \\{ \\text{热量 (kcal)}: 2400, \\text{蛋白质 (g)}: 60, \\text{脂肪 (g)}: 70, \\text{碳水化合物 (g)}: 300 \\}\n",
    "$$\n",
    "\n",
    "设定女生每日营养素推荐摄入量，定义为：\n",
    "$$\n",
    "\\text{reference\\_intake\\_female} = \\{ \\text{热量 (kcal)}: 1900, \\text{蛋白质 (g)}: 50, \\text{脂肪 (g)}: 60, \\text{碳水化合物 (g)}: 250 \\}\n",
    "$$\n",
    "\n",
    "# 步骤 6：标准化膳食数据\n",
    "\n",
    "**计算公式**：\n",
    "标准化处理实际膳食数据和参考膳食数据：\n",
    "$$\n",
    "X_i = \\frac{x_i}{x_{\\max}}\n",
    "$$\n",
    "其中，$X_i$为标准化后的值，$x_i$为实际膳食数据，$x_{\\max}$为该营养素的最大值。\n"
   ],
   "metadata": {
    "collapsed": false
   },
   "id": "2bfcfee2d291af82"
  },
  {
   "cell_type": "code",
   "outputs": [],
   "source": [
    "# 计算膳食的标准参考值\n",
    "reference_intake_male = {'热量 (kcal)': 2400, '蛋白质 (g)': 60, '脂肪 (g)': 70, '碳水化合物 (g)': 300}\n",
    "reference_intake_female = {'热量 (kcal)': 1900, '蛋白质 (g)': 50, '脂肪 (g)': 60, '碳水化合物 (g)': 250}\n",
    "\n",
    "# 标准化膳食数据\n",
    "def standardize_data(actual_intake, reference_intake):\n",
    "    standardized_data = {}\n",
    "    for nutrient in actual_intake:\n",
    "        standardized_data[nutrient] = actual_intake[nutrient] / reference_intake[nutrient]\n",
    "    return standardized_data\n",
    "\n",
    "male_standardized = standardize_data(whole_day_nutrients_male, reference_intake_male)\n",
    "female_standardized = standardize_data(whole_day_nutrients_female, reference_intake_female)\n",
    "\n"
   ],
   "metadata": {
    "collapsed": false,
    "ExecuteTime": {
     "end_time": "2024-05-24T13:21:11.604920Z",
     "start_time": "2024-05-24T13:21:11.602937Z"
    }
   },
   "id": "7f42d3b353e3bd09",
   "execution_count": 6
  },
  {
   "cell_type": "markdown",
   "source": [
    "# 步骤 7：计算关联度\n",
    "\n",
    "**计算公式**：\n",
    "计算每个营养素的灰色关联度，定义为：\n",
    "$$\n",
    "\\gamma_i = \\frac{\\min \\Delta + \\rho \\cdot \\max \\Delta}{\\Delta_i + \\rho \\cdot \\max \\Delta}\n",
    "$$\n",
    "其中，$\\Delta_i$为实际膳食与参考膳食之间的差异值，$\\rho$为分辨系数，通常取值为0.5。\n",
    "\n",
    "# 步骤 8：综合关联度评价\n",
    "\n",
    "**计算公式**：\n",
    "综合关联度评价，定义为：\n",
    "$$\n",
    "\\Gamma = \\frac{1}{n} \\sum_{i=1}^{n} \\gamma_i\n",
    "$$\n",
    "其中，$\\gamma_i$为每个营养素的关联度，$n$为营养素的总数。"
   ],
   "metadata": {
    "collapsed": false
   },
   "id": "eb236e39054edc18"
  },
  {
   "cell_type": "code",
   "outputs": [
    {
     "name": "stdout",
     "output_type": "stream",
     "text": [
      "男大学生膳食的综合灰色关联度评分：0.7104495061764925\n",
      "女大学生膳食的综合灰色关联度评分：0.7005290163096832\n"
     ]
    }
   ],
   "source": [
    "# 计算灰色关联度\n",
    "def calculate_grey_relation(actual, reference, rho=0.5):\n",
    "    delta = {nutrient: abs(actual[nutrient] - reference[nutrient]) for nutrient in actual}\n",
    "    delta_min = min(delta.values())\n",
    "    delta_max = max(delta.values())\n",
    "    grey_relation = {nutrient: (delta_min + rho * delta_max) / (delta[nutrient] + rho * delta_max) for nutrient in delta}\n",
    "    return grey_relation\n",
    "\n",
    "male_grey_relation = calculate_grey_relation(male_standardized, {k: 1 for k in reference_intake_male})\n",
    "female_grey_relation = calculate_grey_relation(female_standardized, {k: 1 for k in reference_intake_female})\n",
    "\n",
    "# 综合关联度评价\n",
    "def comprehensive_evaluation(grey_relation):\n",
    "    return np.mean(list(grey_relation.values()))\n",
    "\n",
    "male_comprehensive_score = comprehensive_evaluation(male_grey_relation)\n",
    "female_comprehensive_score = comprehensive_evaluation(female_grey_relation)\n",
    "\n",
    "print(f\"男大学生膳食的综合灰色关联度评分：{male_comprehensive_score}\")\n",
    "print(f\"女大学生膳食的综合灰色关联度评分：{female_comprehensive_score}\")\n"
   ],
   "metadata": {
    "collapsed": false,
    "ExecuteTime": {
     "end_time": "2024-05-24T13:21:11.608135Z",
     "start_time": "2024-05-24T13:21:11.605427Z"
    }
   },
   "id": "40cc47d9c278de0e",
   "execution_count": 7
  },
  {
   "cell_type": "markdown",
   "source": [
    "总体过程：\n",
    "\n",
    "读取数据：从Excel和CSV文件中加载所有需要的数据。\n",
    "\n",
    "提取餐食信息：从数据集中提取男大学生和女大学生的一日三餐信息。\n",
    "\n",
    "前向填充缺失值：使用前向填充方法填充食谱数据中的缺失值。\n",
    "\n",
    "计算营养素总和：计算每餐和全天的总营养素。\n",
    "\n",
    "计算膳食的标准参考值：根据推荐摄入量设定男生和女生的膳食标准参考值。\n",
    "\n",
    "标准化膳食数据：将实际摄入的营养素数据标准化。\n",
    "\n",
    "计算灰色关联度：计算每个营养素的灰色关联度。\n",
    "\n",
    "综合关联度评价：计算综合关联度评分，对膳食进行全面评价。"
   ],
   "metadata": {
    "collapsed": false
   },
   "id": "5410e4fcefe546aa"
  },
  {
   "cell_type": "markdown",
   "source": [
    "# 问题1.2"
   ],
   "metadata": {
    "collapsed": false
   },
   "id": "5fd1fa5f0e1b2a36"
  },
  {
   "cell_type": "markdown",
   "source": [
    "### 确定营养素缺乏和超出推荐值的部分\n",
    "\n",
    "#### 步骤名称\n",
    "1. 确定营养素缺乏和超出部分\n",
    "2. 计算缺乏的营养素\n",
    "3. 计算超出的营养素\n",
    "\n",
    "#### 数学公式模型\n",
    "\n",
    "1. **确定营养素缺乏和超出部分**\n",
    "\n",
    "对于每种营养素 $ N $，计算实际摄入量 $ A_N $ 和推荐摄入量 $ R_N $ 之间的差异。\n",
    "\n",
    "2. **计算缺乏的营养素**\n",
    "\n",
    "如果实际摄入量小于推荐摄入量，则计算缺乏的营养素：\n",
    "$$ D_N = R_N - A_N $$\n",
    "其中，$ D_N $ 表示缺乏的营养素量。\n",
    "\n",
    "3. **计算超出的营养素**\n",
    "\n",
    "如果实际摄入量大于推荐摄入量，则计算超出的营养素：\n",
    "$$ E_N = A_N - R_N $$\n",
    "其中，$ E_N $ 表示超出的营养素量。\n",
    "\n",
    "#### 输出结果\n",
    "\n",
    "根据上述计算结果，输出男大学生和女大学生膳食中营养素的缺乏和超出部分。\n",
    "\n",
    "\n",
    "#### 男大学生膳食的营养素超出\n",
    "$$\n",
    "\\text{male_excesses} = \\{ N : A_N - R_N \\}\n",
    "$$\n",
    "\n",
    "#### 女大学生膳食的营养素缺乏\n",
    "$$\n",
    "\\text{female_deficiencies} = \\{ N : R_N - A_N \\}\n",
    "$$\n",
    "\n"
   ],
   "metadata": {
    "collapsed": false
   },
   "id": "737db0060271eb4"
  },
  {
   "cell_type": "code",
   "outputs": [
    {
     "name": "stdout",
     "output_type": "stream",
     "text": [
      "\n",
      "男大学生膳食的营养素缺乏：{}\n",
      "男大学生膳食的营养素超出：{'热量 (kcal)': 289.0999999999999, '蛋白质 (g)': 26.459999999999994, '脂肪 (g)': 20.805000000000007, '碳水化合物 (g)': 87.02499999999998}\n",
      "\n",
      "女大学生膳食的营养素缺乏：{'热量 (kcal)': 606.6500000000001, '脂肪 (g)': 9.780000000000001, '碳水化合物 (g)': 91.36000000000001}\n",
      "女大学生膳食的营养素超出：{'蛋白质 (g)': 4.295000000000002}\n"
     ]
    }
   ],
   "source": [
    "# 确定营养素缺乏和超出推荐值的部分\n",
    "def identify_deficiencies_and_excesses(actual_intake, reference_intake):\n",
    "    deficiencies = {}\n",
    "    excesses = {}\n",
    "    for nutrient in actual_intake:\n",
    "        if actual_intake[nutrient] < reference_intake[nutrient]:\n",
    "            deficiencies[nutrient] = reference_intake[nutrient] - actual_intake[nutrient]\n",
    "        elif actual_intake[nutrient] > reference_intake[nutrient]:\n",
    "            excesses[nutrient] = actual_intake[nutrient] - reference_intake[nutrient]\n",
    "    return deficiencies, excesses\n",
    "\n",
    "male_deficiencies, male_excesses = identify_deficiencies_and_excesses(whole_day_nutrients_male, reference_intake_male)\n",
    "female_deficiencies, female_excesses = identify_deficiencies_and_excesses(whole_day_nutrients_female, reference_intake_female)\n",
    "\n",
    "print(f\"\\n男大学生膳食的营养素缺乏：{male_deficiencies}\")\n",
    "print(f\"男大学生膳食的营养素超出：{male_excesses}\")\n",
    "print(f\"\\n女大学生膳食的营养素缺乏：{female_deficiencies}\")\n",
    "print(f\"女大学生膳食的营养素超出：{female_excesses}\")\n",
    "\n",
    "\n"
   ],
   "metadata": {
    "collapsed": false,
    "ExecuteTime": {
     "end_time": "2024-05-24T13:21:11.611015Z",
     "start_time": "2024-05-24T13:21:11.608582Z"
    }
   },
   "id": "b6b905c20a070ef",
   "execution_count": 8
  },
  {
   "cell_type": "code",
   "outputs": [
    {
     "data": {
      "text/plain": "       序号 食物名称 主要成分     食物编码  可食部\\n（克/份）  价格\\n（元/份） 是否\\n可半份\n0     1.0  大米饭   稻米  012001x          25        0.5       否\n1     2.0   馒头  小麦粉  011201x          50        1.0       否\n2     3.0   花卷  小麦粉  011201x          50        1.0       否\n3     4.0   豆浆   黄豆    31101          10        1.5       否\n4     5.0  小米粥   小米    15101          15        0.5       否\n..    ...  ...  ...      ...         ...        ...     ...\n131  45.0   西瓜   西瓜  066201x         100        1.0       否\n132  46.0   香蕉   香蕉    65033         100        1.0       否\n133  47.0   柚子   柚子    64301         100        1.0       否\n134  48.0   苹果   苹果  061101x         100        1.0       否\n135  49.0   葡萄   葡萄  063101x         100        1.0       否\n\n[136 rows x 7 columns]",
      "text/html": "<div>\n<style scoped>\n    .dataframe tbody tr th:only-of-type {\n        vertical-align: middle;\n    }\n\n    .dataframe tbody tr th {\n        vertical-align: top;\n    }\n\n    .dataframe thead th {\n        text-align: right;\n    }\n</style>\n<table border=\"1\" class=\"dataframe\">\n  <thead>\n    <tr style=\"text-align: right;\">\n      <th></th>\n      <th>序号</th>\n      <th>食物名称</th>\n      <th>主要成分</th>\n      <th>食物编码</th>\n      <th>可食部\\n（克/份）</th>\n      <th>价格\\n（元/份）</th>\n      <th>是否\\n可半份</th>\n    </tr>\n  </thead>\n  <tbody>\n    <tr>\n      <th>0</th>\n      <td>1.0</td>\n      <td>大米饭</td>\n      <td>稻米</td>\n      <td>012001x</td>\n      <td>25</td>\n      <td>0.5</td>\n      <td>否</td>\n    </tr>\n    <tr>\n      <th>1</th>\n      <td>2.0</td>\n      <td>馒头</td>\n      <td>小麦粉</td>\n      <td>011201x</td>\n      <td>50</td>\n      <td>1.0</td>\n      <td>否</td>\n    </tr>\n    <tr>\n      <th>2</th>\n      <td>3.0</td>\n      <td>花卷</td>\n      <td>小麦粉</td>\n      <td>011201x</td>\n      <td>50</td>\n      <td>1.0</td>\n      <td>否</td>\n    </tr>\n    <tr>\n      <th>3</th>\n      <td>4.0</td>\n      <td>豆浆</td>\n      <td>黄豆</td>\n      <td>31101</td>\n      <td>10</td>\n      <td>1.5</td>\n      <td>否</td>\n    </tr>\n    <tr>\n      <th>4</th>\n      <td>5.0</td>\n      <td>小米粥</td>\n      <td>小米</td>\n      <td>15101</td>\n      <td>15</td>\n      <td>0.5</td>\n      <td>否</td>\n    </tr>\n    <tr>\n      <th>...</th>\n      <td>...</td>\n      <td>...</td>\n      <td>...</td>\n      <td>...</td>\n      <td>...</td>\n      <td>...</td>\n      <td>...</td>\n    </tr>\n    <tr>\n      <th>131</th>\n      <td>45.0</td>\n      <td>西瓜</td>\n      <td>西瓜</td>\n      <td>066201x</td>\n      <td>100</td>\n      <td>1.0</td>\n      <td>否</td>\n    </tr>\n    <tr>\n      <th>132</th>\n      <td>46.0</td>\n      <td>香蕉</td>\n      <td>香蕉</td>\n      <td>65033</td>\n      <td>100</td>\n      <td>1.0</td>\n      <td>否</td>\n    </tr>\n    <tr>\n      <th>133</th>\n      <td>47.0</td>\n      <td>柚子</td>\n      <td>柚子</td>\n      <td>64301</td>\n      <td>100</td>\n      <td>1.0</td>\n      <td>否</td>\n    </tr>\n    <tr>\n      <th>134</th>\n      <td>48.0</td>\n      <td>苹果</td>\n      <td>苹果</td>\n      <td>061101x</td>\n      <td>100</td>\n      <td>1.0</td>\n      <td>否</td>\n    </tr>\n    <tr>\n      <th>135</th>\n      <td>49.0</td>\n      <td>葡萄</td>\n      <td>葡萄</td>\n      <td>063101x</td>\n      <td>100</td>\n      <td>1.0</td>\n      <td>否</td>\n    </tr>\n  </tbody>\n</table>\n<p>136 rows × 7 columns</p>\n</div>"
     },
     "execution_count": 9,
     "metadata": {},
     "output_type": "execute_result"
    }
   ],
   "source": [
    "df3_breakfast = pd.read_excel('附件3.xlsx', sheet_name='早餐')\n",
    "df3_lunch = pd.read_excel('附件3.xlsx', sheet_name='午餐')\n",
    "df3_dinner = pd.read_excel('附件3.xlsx', sheet_name='晚餐')\n",
    "df3_dinner "
   ],
   "metadata": {
    "collapsed": false,
    "ExecuteTime": {
     "end_time": "2024-05-24T13:21:11.675811Z",
     "start_time": "2024-05-24T13:21:11.611470Z"
    }
   },
   "id": "b396a8b66aca55dd",
   "execution_count": 9
  },
  {
   "cell_type": "markdown",
   "source": [
    "### 膳食调整策略\n",
    "\n",
    "#### 数学公式\n",
    "\n",
    "1. **计算营养素总和**\n",
    "   对于每餐和一整天的营养素总和进行计算：\n",
    "\n",
    "   $$\n",
    "   T_{day} = \\sum_{i=1}^{n} M_{i}\n",
    "   $$\n",
    "\n",
    "   其中，$ T_{day} $ 表示一整天的营养素总和，$ M_{i} $ 表示每餐的营养素总和。\n",
    "\n",
    "2. **选择最合理的调整建议并修改膳食**\n",
    "\n",
    "   根据调整建议修改膳食，处理减少和增加的部分：\n",
    "\n",
    "   $$\n",
    "   M_{updated} = M_{original} - \\text{减少部分} + \\text{增加部分}\n",
    "   $$\n",
    "\n",
    "3. **标准化膳食数据**\n",
    "\n",
    "   对实际摄入的营养素数据进行标准化处理：\n",
    "\n",
    "   $$\n",
    "   S_{N} = \\frac{A_{N}}{R_{N}}\n",
    "   $$\n",
    "\n",
    "   其中，$ S_{N} $ 表示标准化后的营养素，$ A_{N} $ 表示实际摄入量，$ R_{N} $ 表示推荐摄入量。\n",
    "\n",
    "4. **计算灰色关联度**\n",
    "\n",
    "   计算实际摄入量与推荐摄入量之间的灰色关联度：\n",
    "\n",
    "   $$\n",
    "   \\Delta_{N} = |A_{N} - R_{N}|\n",
    "   $$\n",
    "\n",
    "   其中，$ \\Delta_{N} $ 表示实际摄入量与推荐摄入量的差值。\n",
    "\n",
    "   $$\n",
    "   \\xi_{N} = \\frac{\\Delta_{min} + \\rho \\Delta_{max}}{\\Delta_{N} + \\rho \\Delta_{max}}\n",
    "   $$\n",
    "\n",
    "   其中，$ \\xi_{N} $ 表示灰色关联度，$ \\Delta_{min} $ 表示所有营养素差值中的最小值，$ \\Delta_{max} $ 表示所有营养素差值中的最大值，$ \\rho $ 为分辨系数，取值范围为 0 到 1。\n",
    "\n",
    "5. **综合关联度评价**\n",
    "\n",
    "   计算所有营养素的灰色关联度的平均值，作为综合评价结果：\n",
    "\n",
    "   $$\n",
    "   \\Gamma = \\frac{1}{n} \\sum_{i=1}^{n} \\xi_{i}\n",
    "   $$\n",
    "\n",
    "   其中，$ \\Gamma $ 表示综合灰色关联度，$ \\xi_{i} $ 表示第 $ i $ 个营养素的灰色关联度，$ n $ 表示营养素的数量。\n",
    "\n",
    "6. **生成减少和增加食物的所有组合**\n",
    "\n",
    "   生成减少和增加食物的所有可能组合：\n",
    "\n",
    "   $$\n",
    "   C_{reduce} = \\text{itertools.combinations}(R, k)\n",
    "   $$\n",
    "\n",
    "   $$\n",
    "   C_{add} = \\text{itertools.combinations}(A, m)\n",
    "   $$\n",
    "\n",
    "   其中，$ C_{reduce} $ 表示减少食物的组合，$ R $ 表示可减少的食物集合，$ k $ 表示减少的食物数量，$ C_{add} $ 表示增加食物的组合，$ A $ 表示可增加的食物集合，$ m $ 表示增加的食物数量。\n",
    "\n",
    "7. **定义食物调整策略**\n",
    "\n",
    "   根据缺乏和超出部分生成增加和减少的食物调整策略：\n",
    "\n",
    "   $$\n",
    "   \\text{adjustments} = \\{\\text{增加}: \\{\\}, \\text{减少}: \\{\\}\\}\n",
    "   $$\n",
    "\n",
    "8. **遍历所有组合，找到最佳的膳食调整方案**\n",
    "\n",
    "   通过遍历所有可能的减少和增加食物的组合，找到使灰色关联度最高的调整方案：\n",
    "\n",
    "   $$\n",
    "   \\text{best\\_score} = \\max(\\Gamma_{total})\n",
    "   $$\n",
    "\n",
    "   其中，$ \\Gamma_{total} $ 表示所有组合的综合灰色关联度。\n",
    "\n",
    "9. **更新膳食并重新计算营养素总和**\n",
    "\n",
    "   根据最佳调整方案更新膳食，并重新计算更新后的营养素总和：\n",
    "\n",
    "   $$\n",
    "   M_{updated} = M_{original} - \\text{减少部分} + \\text{增加部分}\n",
    "   $$\n",
    "\n",
    "10. **打印调整后的膳食建议和新的灰色关联度评分**\n",
    "\n",
    "    输出调整后的膳食策略和新的综合灰色关联度评分：\n",
    "\n",
    "    $$\n",
    "    \\text{print}(\\Gamma_{updated})\n",
    "    $$\n"
   ],
   "metadata": {
    "collapsed": false
   },
   "id": "7cf2c229ad7076f5"
  },
  {
   "cell_type": "code",
   "outputs": [
    {
     "name": "stdout",
     "output_type": "stream",
     "text": [
      "更新后男大学生膳食的综合灰色关联度评分：0.7954812715039575\n",
      "更新后女大学生膳食的综合灰色关联度评分：0.7927958512083574\n",
      "\n",
      "男大学生膳食的调整建议：\n",
      "减少 1 份 小米粥 在 早餐\n",
      "\n",
      "女大学生膳食的调整建议：\n",
      "增加 1 份 鸡蛋饼 在 早餐\n"
     ]
    }
   ],
   "source": [
    "import itertools\n",
    "import pandas as pd\n",
    "import numpy as np\n",
    "\n",
    "def calculate_nutrients(meals, food_data):\n",
    "    total_day_nutrients = {'热量 (kcal)': 0, '蛋白质 (g)': 0, '脂肪 (g)': 0, '碳水化合物 (g)': 0}\n",
    "    daily_nutrients_list = []\n",
    "\n",
    "    for meal, items in meals.items():\n",
    "        meal_nutrients = {'热量 (kcal)': 0, '蛋白质 (g)': 0, '脂肪 (g)': 0, '碳水化合物 (g)': 0}\n",
    "        for item in items:\n",
    "            for _, food in food_data.iterrows():\n",
    "                if food['食物名称'] == item:\n",
    "                    nutrient = foods_nutrients[foods_nutrients['食物'] == food['主要成分']].iloc[0]\n",
    "                    portion_size = food['可食部（克/份）'] * food['食用份数'] / 100\n",
    "                    meal_nutrients['热量 (kcal)'] += nutrient['热量 (kcal)'] * portion_size\n",
    "                    meal_nutrients['蛋白质 (g)'] += nutrient['蛋白质 (g)'] * portion_size\n",
    "                    meal_nutrients['脂肪 (g)'] += nutrient['脂肪 (g)'] * portion_size\n",
    "                    meal_nutrients['碳水化合物 (g)'] += nutrient['碳水化合物 (g)'] * portion_size\n",
    "        daily_nutrients_list.append((meal, meal_nutrients))\n",
    "        total_day_nutrients['热量 (kcal)'] += meal_nutrients['热量 (kcal)']\n",
    "        total_day_nutrients['蛋白质 (g)'] += meal_nutrients['蛋白质 (g)']\n",
    "        total_day_nutrients['脂肪 (g)'] += meal_nutrients['脂肪 (g)']\n",
    "        total_day_nutrients['碳水化合物 (g)'] += meal_nutrients['碳水化合物 (g)']\n",
    "\n",
    "    return total_day_nutrients, daily_nutrients_list\n",
    "\n",
    "# 选择最合理的调整建议并修改膳食\n",
    "def apply_adjustments(meals, adjustments):\n",
    "    updated_meals = meals.copy()\n",
    "    \n",
    "    # 处理减少部分\n",
    "    for food, (meal, servings_to_adjust) in adjustments['减少'].items():\n",
    "        if food in updated_meals[meal]:\n",
    "            updated_meals[meal].remove(food)\n",
    "    \n",
    "    # 处理增加部分\n",
    "    for food, (meal, servings_to_add) in adjustments['增加'].items():\n",
    "        if meal in updated_meals:\n",
    "            updated_meals[meal].append(food)\n",
    "        else:\n",
    "            updated_meals[meal] = [food]\n",
    "    \n",
    "    return updated_meals\n",
    "\n",
    "# 标准化膳食数据\n",
    "def standardize_data(actual_intake, reference_intake):\n",
    "    standardized_data = {}\n",
    "    for nutrient in actual_intake:\n",
    "        standardized_data[nutrient] = actual_intake[nutrient] / reference_intake[nutrient]\n",
    "    return standardized_data\n",
    "\n",
    "# 计算灰色关联度\n",
    "def calculate_grey_relation(actual, reference, rho=0.5):\n",
    "    delta = {nutrient: abs(actual[nutrient] - reference[nutrient]) for nutrient in actual}\n",
    "    delta_min = min(delta.values())\n",
    "    delta_max = max(delta.values())\n",
    "    grey_relation = {nutrient: (delta_min + rho * delta_max) / (delta[nutrient] + rho * delta_max) for nutrient in delta}\n",
    "    return grey_relation\n",
    "\n",
    "# 综合关联度评价\n",
    "def comprehensive_evaluation(grey_relation):\n",
    "    return np.mean(list(grey_relation.values()))\n",
    "\n",
    "# 生成减少和增加食物的所有组合\n",
    "def generate_combinations(items, max_combinations):\n",
    "    return list(itertools.combinations(items, max_combinations))\n",
    "\n",
    "# 定义食物调整策略\n",
    "def adjust_meals(meals, food_df, nutrients_df, deficiencies, excesses):\n",
    "    adjustments = {'增加': {}, '减少': {}}\n",
    "    \n",
    "    for nutrient in excesses:\n",
    "        for meal, items in meals.items():\n",
    "            for item in items:\n",
    "                food_info = food_df[food_df['食物名称'] == item]\n",
    "                if not food_info.empty:\n",
    "                    food_info = food_info.iloc[0]\n",
    "                    nutrient_info = nutrients_df[nutrients_df['食物'] == food_info['主要成分']].iloc[0]\n",
    "                    portion_size = food_info['可食部（克/份）'] / 100\n",
    "                    if nutrient in nutrient_info:\n",
    "                        reduction_needed = excesses[nutrient]\n",
    "                        reduction_per_serving = nutrient_info[nutrient] * portion_size\n",
    "                        if reduction_per_serving > 0:\n",
    "                            servings_to_reduce = reduction_needed / reduction_per_serving\n",
    "                            adjustments['减少'][item] = (meal, min(1, servings_to_reduce))\n",
    "                            excesses[nutrient] -= reduction_per_serving * min(1, servings_to_reduce)\n",
    "                            if excesses[nutrient] <= 0:\n",
    "                                break\n",
    "            if excesses[nutrient] <= 0:\n",
    "                break\n",
    "\n",
    "    for nutrient in deficiencies:\n",
    "        for meal, items in meals.items():\n",
    "            for _, food_info in food_df.iterrows():\n",
    "                if food_info['食物名称'] not in items:\n",
    "                    nutrient_info = nutrients_df[nutrients_df['食物'] == food_info['主要成分']].iloc[0]\n",
    "                    portion_size = food_info['可食部（克/份）'] / 100\n",
    "                    if nutrient in nutrient_info:\n",
    "                        addition_needed = deficiencies[nutrient]\n",
    "                        addition_per_serving = nutrient_info[nutrient] * portion_size\n",
    "                        if addition_per_serving > 0:\n",
    "                            servings_to_add = addition_needed / addition_per_serving\n",
    "                            adjustments['增加'][food_info['食物名称']] = (meal, min(1, servings_to_add))\n",
    "                            deficiencies[nutrient] -= addition_per_serving * min(1, servings_to_add)\n",
    "                            if deficiencies[nutrient] <= 0:\n",
    "                                break\n",
    "            if deficiencies[nutrient] <= 0:\n",
    "                break\n",
    "    \n",
    "    return adjustments\n",
    "\n",
    "# 处理男大学生的膳食调整\n",
    "male_adjustments = adjust_meals(meals_male, food_male, foods_nutrients, male_deficiencies, male_excesses)\n",
    "\n",
    "# 处理女大学生的膳食调整\n",
    "female_adjustments = adjust_meals(meals_female, food_female, foods_nutrients, female_deficiencies, female_excesses)\n",
    "\n",
    "reduce_items_male = list(male_adjustments['减少'].keys())\n",
    "reduce_combinations_male = generate_combinations(reduce_items_male, 1)\n",
    "\n",
    "add_items_female = list(female_adjustments['增加'].keys())\n",
    "add_combinations_female = generate_combinations(add_items_female, 1)\n",
    "\n",
    "best_score = -1\n",
    "best_male_adjustments = None\n",
    "best_female_adjustments = None\n",
    "# 遍历所有组合，找到最佳的男生和女生膳食调整方案\n",
    "for reduce_combination in reduce_combinations_male:\n",
    "    temp_male_adjustments = {'减少': {k: male_adjustments['减少'][k] for k in reduce_combination}, '增加': {}}\n",
    "    \n",
    "    for add_combination in add_combinations_female:\n",
    "        temp_female_adjustments = {'增加': {k: female_adjustments['增加'][k] for k in add_combination}, '减少': {}}\n",
    "        \n",
    "        updated_meals_male = apply_adjustments(meals_male, temp_male_adjustments)\n",
    "        updated_meals_female = apply_adjustments(meals_female, temp_female_adjustments)\n",
    "        \n",
    "        updated_nutrients_male, _ = calculate_nutrients(updated_meals_male, food_male)\n",
    "        updated_nutrients_female, _ = calculate_nutrients(updated_meals_female, food_female)\n",
    "        \n",
    "        standardized_nutrients_male = standardize_data(updated_nutrients_male, reference_intake_male)\n",
    "        standardized_nutrients_female = standardize_data(updated_nutrients_female, reference_intake_female)\n",
    "        \n",
    "        grey_relation_male = calculate_grey_relation(standardized_nutrients_male, reference_intake_male)\n",
    "        grey_relation_female = calculate_grey_relation(standardized_nutrients_female, reference_intake_female)\n",
    "        \n",
    "        score_male = comprehensive_evaluation(grey_relation_male)\n",
    "        score_female = comprehensive_evaluation(grey_relation_female)\n",
    "        \n",
    "        total_score = score_male + score_female\n",
    "        \n",
    "        if total_score > best_score:\n",
    "            best_score = total_score\n",
    "            best_male_adjustments = temp_male_adjustments\n",
    "            best_female_adjustments = temp_female_adjustments\n",
    "\n",
    "updated_meals_male = apply_adjustments(meals_male, best_male_adjustments)\n",
    "updated_meals_female = apply_adjustments(meals_female, best_female_adjustments)\n",
    "\n",
    "updated_whole_day_nutrients_male, updated_male_ls = calculate_nutrients(updated_meals_male, food_male)\n",
    "updated_whole_day_nutrients_female, updated_female_ls = calculate_nutrients(updated_meals_female, food_female)\n",
    "\n",
    "updated_male_standardized = standardize_data(updated_whole_day_nutrients_male, reference_intake_male)\n",
    "updated_female_standardized = standardize_data(updated_whole_day_nutrients_female, reference_intake_female)\n",
    "\n",
    "updated_male_grey_relation = calculate_grey_relation(updated_male_standardized, reference_intake_male)\n",
    "updated_female_grey_relation = calculate_grey_relation(updated_female_standardized, reference_intake_female)\n",
    "\n",
    "updated_male_comprehensive_score = comprehensive_evaluation(updated_male_grey_relation)\n",
    "updated_female_comprehensive_score = comprehensive_evaluation(updated_female_grey_relation)\n",
    "\n",
    "print(f\"更新后男大学生膳食的综合灰色关联度评分：{updated_male_comprehensive_score}\")\n",
    "print(f\"更新后女大学生膳食的综合灰色关联度评分：{updated_female_comprehensive_score}\")\n",
    "\n",
    "print(\"\\n男大学生膳食的调整建议：\")\n",
    "for action, changes in best_male_adjustments.items():\n",
    "    for food, (meal, servings) in changes.items():\n",
    "        print(f\"{action} {servings} 份 {food} 在 {meal}\")\n",
    "\n",
    "print(\"\\n女大学生膳食的调整建议：\")\n",
    "for action, changes in best_female_adjustments.items():\n",
    "    for food, (meal, servings) in changes.items():\n",
    "        print(f\"{action} {servings} 份 {food} 在 {meal}\")\n"
   ],
   "metadata": {
    "collapsed": false,
    "ExecuteTime": {
     "end_time": "2024-05-24T13:21:12.558799Z",
     "start_time": "2024-05-24T13:21:11.677396Z"
    }
   },
   "id": "875d3c404c70ba2a",
   "execution_count": 10
  },
  {
   "cell_type": "code",
   "outputs": [],
   "source": [],
   "metadata": {
    "collapsed": false,
    "ExecuteTime": {
     "end_time": "2024-05-24T13:21:12.560760Z",
     "start_time": "2024-05-24T13:21:12.559424Z"
    }
   },
   "id": "527618fb8620a96e",
   "execution_count": 10
  }
 ],
 "metadata": {
  "kernelspec": {
   "display_name": "Python 3",
   "language": "python",
   "name": "python3"
  },
  "language_info": {
   "codemirror_mode": {
    "name": "ipython",
    "version": 2
   },
   "file_extension": ".py",
   "mimetype": "text/x-python",
   "name": "python",
   "nbconvert_exporter": "python",
   "pygments_lexer": "ipython2",
   "version": "2.7.6"
  }
 },
 "nbformat": 4,
 "nbformat_minor": 5
}
